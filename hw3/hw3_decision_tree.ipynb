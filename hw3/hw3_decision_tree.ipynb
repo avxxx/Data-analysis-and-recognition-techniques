{
 "cells": [
  {
   "cell_type": "code",
   "execution_count": 1,
   "id": "02fe4ee9-1629-47cd-b2fe-6fda8eaff462",
   "metadata": {},
   "outputs": [],
   "source": [
    "%load_ext autoreload\n",
    "%autoreload 2"
   ]
  },
  {
   "cell_type": "markdown",
   "id": "83eb38e4-2249-4201-acb2-26c402c899a3",
   "metadata": {},
   "source": [
    "# Imports"
   ]
  },
  {
   "cell_type": "code",
   "execution_count": 40,
   "id": "191a936f-d1e8-4cb5-bf9b-ff846a8d0382",
   "metadata": {},
   "outputs": [],
   "source": [
    "from collections import OrderedDict\n",
    "from random import sample\n",
    "import os\n",
    "import warnings\n",
    "warnings.filterwarnings(\"ignore\")\n",
    "\n",
    "import numpy as np\n",
    "import pandas as pd\n",
    "import seaborn as sns\n",
    "import matplotlib.pyplot as plt\n",
    "import sklearn\n",
    "from sklearn.model_selection import train_test_split\n",
    "from sklearn.metrics import (\n",
    "    accuracy_score,\n",
    "    recall_score,\n",
    "    precision_score,\n",
    "    f1_score\n",
    ")\n",
    "from sklearn.preprocessing import LabelEncoder\n",
    "from sklearn.tree import DecisionTreeClassifier\n",
    "from sklearn.ensemble import RandomForestClassifier\n",
    "from tqdm.notebook import tqdm\n",
    "\n",
    "from decision_tree_model import DecisionTreeModel\n",
    "\n"
   ]
  },
  {
   "cell_type": "markdown",
   "id": "443c1fee-9d12-43c4-ab84-0c5259136945",
   "metadata": {},
   "source": [
    "# Load data"
   ]
  },
  {
   "cell_type": "code",
   "execution_count": 3,
   "id": "8d16e1b7-41dc-41ad-9e6a-a835767bc3e5",
   "metadata": {},
   "outputs": [],
   "source": [
    "df = pd.read_csv('data.csv')"
   ]
  },
  {
   "cell_type": "code",
   "execution_count": 5,
   "id": "adc0847d-8178-46a2-88de-c64fcb082818",
   "metadata": {},
   "outputs": [
    {
     "data": {
      "text/html": [
       "<div>\n",
       "<style scoped>\n",
       "    .dataframe tbody tr th:only-of-type {\n",
       "        vertical-align: middle;\n",
       "    }\n",
       "\n",
       "    .dataframe tbody tr th {\n",
       "        vertical-align: top;\n",
       "    }\n",
       "\n",
       "    .dataframe thead th {\n",
       "        text-align: right;\n",
       "    }\n",
       "</style>\n",
       "<table border=\"1\" class=\"dataframe\">\n",
       "  <thead>\n",
       "    <tr style=\"text-align: right;\">\n",
       "      <th></th>\n",
       "      <th>Age</th>\n",
       "      <th>workclass</th>\n",
       "      <th>Fnlwgt</th>\n",
       "      <th>Education</th>\n",
       "      <th>Education-num</th>\n",
       "      <th>Marital-status</th>\n",
       "      <th>Occupation</th>\n",
       "      <th>Relationship</th>\n",
       "      <th>Race</th>\n",
       "      <th>Sex</th>\n",
       "      <th>Capital-gain</th>\n",
       "      <th>Capital-loss</th>\n",
       "      <th>Hours-per-week</th>\n",
       "      <th>Native-country</th>\n",
       "      <th>Money</th>\n",
       "    </tr>\n",
       "  </thead>\n",
       "  <tbody>\n",
       "    <tr>\n",
       "      <th>7336</th>\n",
       "      <td>40</td>\n",
       "      <td>Private</td>\n",
       "      <td>220589</td>\n",
       "      <td>Some-college</td>\n",
       "      <td>10</td>\n",
       "      <td>Married-civ-spouse</td>\n",
       "      <td>Sales</td>\n",
       "      <td>Wife</td>\n",
       "      <td>White</td>\n",
       "      <td>Female</td>\n",
       "      <td>0</td>\n",
       "      <td>0</td>\n",
       "      <td>40</td>\n",
       "      <td>United-States</td>\n",
       "      <td>&gt;50K</td>\n",
       "    </tr>\n",
       "    <tr>\n",
       "      <th>29306</th>\n",
       "      <td>31</td>\n",
       "      <td>Self-emp-not-inc</td>\n",
       "      <td>234537</td>\n",
       "      <td>Some-college</td>\n",
       "      <td>10</td>\n",
       "      <td>Married-civ-spouse</td>\n",
       "      <td>Craft-repair</td>\n",
       "      <td>Husband</td>\n",
       "      <td>White</td>\n",
       "      <td>Male</td>\n",
       "      <td>0</td>\n",
       "      <td>0</td>\n",
       "      <td>60</td>\n",
       "      <td>United-States</td>\n",
       "      <td>&lt;=50K</td>\n",
       "    </tr>\n",
       "    <tr>\n",
       "      <th>20373</th>\n",
       "      <td>28</td>\n",
       "      <td>Private</td>\n",
       "      <td>205337</td>\n",
       "      <td>HS-grad</td>\n",
       "      <td>9</td>\n",
       "      <td>Married-civ-spouse</td>\n",
       "      <td>Machine-op-inspct</td>\n",
       "      <td>Husband</td>\n",
       "      <td>White</td>\n",
       "      <td>Male</td>\n",
       "      <td>0</td>\n",
       "      <td>0</td>\n",
       "      <td>40</td>\n",
       "      <td>United-States</td>\n",
       "      <td>&lt;=50K</td>\n",
       "    </tr>\n",
       "    <tr>\n",
       "      <th>22019</th>\n",
       "      <td>20</td>\n",
       "      <td>Private</td>\n",
       "      <td>47678</td>\n",
       "      <td>HS-grad</td>\n",
       "      <td>9</td>\n",
       "      <td>Never-married</td>\n",
       "      <td>Craft-repair</td>\n",
       "      <td>Own-child</td>\n",
       "      <td>White</td>\n",
       "      <td>Male</td>\n",
       "      <td>0</td>\n",
       "      <td>0</td>\n",
       "      <td>40</td>\n",
       "      <td>United-States</td>\n",
       "      <td>&lt;=50K</td>\n",
       "    </tr>\n",
       "    <tr>\n",
       "      <th>29187</th>\n",
       "      <td>31</td>\n",
       "      <td>Private</td>\n",
       "      <td>178370</td>\n",
       "      <td>HS-grad</td>\n",
       "      <td>9</td>\n",
       "      <td>Divorced</td>\n",
       "      <td>Other-service</td>\n",
       "      <td>Unmarried</td>\n",
       "      <td>White</td>\n",
       "      <td>Female</td>\n",
       "      <td>0</td>\n",
       "      <td>0</td>\n",
       "      <td>99</td>\n",
       "      <td>United-States</td>\n",
       "      <td>&gt;50K</td>\n",
       "    </tr>\n",
       "  </tbody>\n",
       "</table>\n",
       "</div>"
      ],
      "text/plain": [
       "       Age          workclass  Fnlwgt      Education  Education-num  \\\n",
       "7336    40            Private  220589   Some-college             10   \n",
       "29306   31   Self-emp-not-inc  234537   Some-college             10   \n",
       "20373   28            Private  205337        HS-grad              9   \n",
       "22019   20            Private   47678        HS-grad              9   \n",
       "29187   31            Private  178370        HS-grad              9   \n",
       "\n",
       "            Marital-status          Occupation Relationship    Race      Sex  \\\n",
       "7336    Married-civ-spouse               Sales         Wife   White   Female   \n",
       "29306   Married-civ-spouse        Craft-repair      Husband   White     Male   \n",
       "20373   Married-civ-spouse   Machine-op-inspct      Husband   White     Male   \n",
       "22019        Never-married        Craft-repair    Own-child   White     Male   \n",
       "29187             Divorced       Other-service    Unmarried   White   Female   \n",
       "\n",
       "       Capital-gain  Capital-loss  Hours-per-week  Native-country   Money  \n",
       "7336              0             0              40   United-States    >50K  \n",
       "29306             0             0              60   United-States   <=50K  \n",
       "20373             0             0              40   United-States   <=50K  \n",
       "22019             0             0              40   United-States   <=50K  \n",
       "29187             0             0              99   United-States    >50K  "
      ]
     },
     "execution_count": 5,
     "metadata": {},
     "output_type": "execute_result"
    }
   ],
   "source": [
    "df.sample(5)"
   ]
  },
  {
   "cell_type": "code",
   "execution_count": 6,
   "id": "55eff9a7-29cc-48aa-bfdf-0274b7e266b1",
   "metadata": {},
   "outputs": [
    {
     "name": "stdout",
     "output_type": "stream",
     "text": [
      "<class 'pandas.core.frame.DataFrame'>\n",
      "RangeIndex: 32561 entries, 0 to 32560\n",
      "Data columns (total 15 columns):\n",
      " #   Column          Non-Null Count  Dtype \n",
      "---  ------          --------------  ----- \n",
      " 0   Age             32561 non-null  int64 \n",
      " 1   workclass       32561 non-null  object\n",
      " 2   Fnlwgt          32561 non-null  int64 \n",
      " 3   Education       32561 non-null  object\n",
      " 4   Education-num   32561 non-null  int64 \n",
      " 5   Marital-status  32561 non-null  object\n",
      " 6   Occupation      32561 non-null  object\n",
      " 7   Relationship    32561 non-null  object\n",
      " 8   Race            32561 non-null  object\n",
      " 9   Sex             32561 non-null  object\n",
      " 10  Capital-gain    32561 non-null  int64 \n",
      " 11  Capital-loss    32561 non-null  int64 \n",
      " 12  Hours-per-week  32561 non-null  int64 \n",
      " 13  Native-country  32561 non-null  object\n",
      " 14  Money           32561 non-null  object\n",
      "dtypes: int64(6), object(9)\n",
      "memory usage: 3.7+ MB\n"
     ]
    }
   ],
   "source": [
    "df.info()"
   ]
  },
  {
   "cell_type": "markdown",
   "id": "2fafce01-4572-48d0-99d3-910895763d62",
   "metadata": {},
   "source": [
    "# Data preproccessing"
   ]
  },
  {
   "cell_type": "markdown",
   "id": "a87cb610-b9f8-45c2-899d-d7c6e3b4fc53",
   "metadata": {},
   "source": [
    "Датасет довольно большой, для выполнения задания хватит 1000 строк."
   ]
  },
  {
   "cell_type": "code",
   "execution_count": 7,
   "id": "09a361d1-6b31-4b3d-8a18-d93f1a604ecc",
   "metadata": {},
   "outputs": [],
   "source": [
    "df = df.sample(1000)"
   ]
  },
  {
   "cell_type": "markdown",
   "id": "f24c94c0-cdb5-4671-9654-0bf4625d23cb",
   "metadata": {},
   "source": [
    "Удалим строки с `'?'`"
   ]
  },
  {
   "cell_type": "code",
   "execution_count": 8,
   "id": "da847190-edc0-4c21-a215-270758af09fc",
   "metadata": {},
   "outputs": [
    {
     "data": {
      "application/vnd.jupyter.widget-view+json": {
       "model_id": "d42c24be19254fc3b64ef258483ebf62",
       "version_major": 2,
       "version_minor": 0
      },
      "text/plain": [
       "0it [00:00, ?it/s]"
      ]
     },
     "metadata": {},
     "output_type": "display_data"
    },
    {
     "name": "stdout",
     "output_type": "stream",
     "text": [
      "79\n"
     ]
    }
   ],
   "source": [
    "idx_to_drop = []\n",
    "obj_cols = ['workclass', 'Education', 'Marital-status', 'Occupation', 'Relationship', \n",
    "            'Race', 'Sex', 'Native-country', 'Money']\n",
    "for idx, r in tqdm(df[obj_cols].iterrows()):\n",
    "    f = 0\n",
    "    for s in r:\n",
    "        if '?' in s:\n",
    "            f = 1\n",
    "    if f == 1:\n",
    "        idx_to_drop.append(idx)\n",
    "            \n",
    "print(len(idx_to_drop))"
   ]
  },
  {
   "cell_type": "code",
   "execution_count": 9,
   "id": "debe570a-c0d0-4c2b-bc74-a1496e684ae8",
   "metadata": {},
   "outputs": [],
   "source": [
    "df.drop(index=idx_to_drop, inplace=True)"
   ]
  },
  {
   "cell_type": "markdown",
   "id": "f3604580-a325-4a81-813d-6b3d23004d6b",
   "metadata": {},
   "source": [
    "Разметим таргет"
   ]
  },
  {
   "cell_type": "code",
   "execution_count": 10,
   "id": "32014204-0227-4b7b-8c47-00f31c31bf4e",
   "metadata": {},
   "outputs": [],
   "source": [
    "df['Money'] = (df['Money'] == \" <=50K\").astype('int64')"
   ]
  },
  {
   "cell_type": "code",
   "execution_count": 11,
   "id": "b87776c6-e325-4a43-9011-c724ceb960d8",
   "metadata": {},
   "outputs": [
    {
     "data": {
      "text/html": [
       "<div>\n",
       "<style scoped>\n",
       "    .dataframe tbody tr th:only-of-type {\n",
       "        vertical-align: middle;\n",
       "    }\n",
       "\n",
       "    .dataframe tbody tr th {\n",
       "        vertical-align: top;\n",
       "    }\n",
       "\n",
       "    .dataframe thead th {\n",
       "        text-align: right;\n",
       "    }\n",
       "</style>\n",
       "<table border=\"1\" class=\"dataframe\">\n",
       "  <thead>\n",
       "    <tr style=\"text-align: right;\">\n",
       "      <th></th>\n",
       "      <th>Age</th>\n",
       "      <th>workclass</th>\n",
       "      <th>Fnlwgt</th>\n",
       "      <th>Education</th>\n",
       "      <th>Education-num</th>\n",
       "      <th>Marital-status</th>\n",
       "      <th>Occupation</th>\n",
       "      <th>Relationship</th>\n",
       "      <th>Race</th>\n",
       "      <th>Sex</th>\n",
       "      <th>Capital-gain</th>\n",
       "      <th>Capital-loss</th>\n",
       "      <th>Hours-per-week</th>\n",
       "      <th>Native-country</th>\n",
       "      <th>Money</th>\n",
       "    </tr>\n",
       "  </thead>\n",
       "  <tbody>\n",
       "    <tr>\n",
       "      <th>8986</th>\n",
       "      <td>20</td>\n",
       "      <td>Private</td>\n",
       "      <td>50397</td>\n",
       "      <td>Some-college</td>\n",
       "      <td>10</td>\n",
       "      <td>Married-civ-spouse</td>\n",
       "      <td>Sales</td>\n",
       "      <td>Husband</td>\n",
       "      <td>Black</td>\n",
       "      <td>Male</td>\n",
       "      <td>0</td>\n",
       "      <td>0</td>\n",
       "      <td>35</td>\n",
       "      <td>United-States</td>\n",
       "      <td>1</td>\n",
       "    </tr>\n",
       "    <tr>\n",
       "      <th>30812</th>\n",
       "      <td>22</td>\n",
       "      <td>Private</td>\n",
       "      <td>172766</td>\n",
       "      <td>Some-college</td>\n",
       "      <td>10</td>\n",
       "      <td>Never-married</td>\n",
       "      <td>Sales</td>\n",
       "      <td>Own-child</td>\n",
       "      <td>White</td>\n",
       "      <td>Female</td>\n",
       "      <td>0</td>\n",
       "      <td>0</td>\n",
       "      <td>40</td>\n",
       "      <td>United-States</td>\n",
       "      <td>1</td>\n",
       "    </tr>\n",
       "    <tr>\n",
       "      <th>16010</th>\n",
       "      <td>50</td>\n",
       "      <td>Private</td>\n",
       "      <td>166220</td>\n",
       "      <td>Assoc-acdm</td>\n",
       "      <td>12</td>\n",
       "      <td>Married-civ-spouse</td>\n",
       "      <td>Sales</td>\n",
       "      <td>Wife</td>\n",
       "      <td>White</td>\n",
       "      <td>Female</td>\n",
       "      <td>3942</td>\n",
       "      <td>0</td>\n",
       "      <td>40</td>\n",
       "      <td>United-States</td>\n",
       "      <td>1</td>\n",
       "    </tr>\n",
       "    <tr>\n",
       "      <th>5694</th>\n",
       "      <td>44</td>\n",
       "      <td>Private</td>\n",
       "      <td>182616</td>\n",
       "      <td>Assoc-voc</td>\n",
       "      <td>11</td>\n",
       "      <td>Married-civ-spouse</td>\n",
       "      <td>Tech-support</td>\n",
       "      <td>Husband</td>\n",
       "      <td>White</td>\n",
       "      <td>Male</td>\n",
       "      <td>0</td>\n",
       "      <td>0</td>\n",
       "      <td>40</td>\n",
       "      <td>United-States</td>\n",
       "      <td>0</td>\n",
       "    </tr>\n",
       "    <tr>\n",
       "      <th>11899</th>\n",
       "      <td>39</td>\n",
       "      <td>Private</td>\n",
       "      <td>167140</td>\n",
       "      <td>Masters</td>\n",
       "      <td>14</td>\n",
       "      <td>Married-civ-spouse</td>\n",
       "      <td>Exec-managerial</td>\n",
       "      <td>Husband</td>\n",
       "      <td>White</td>\n",
       "      <td>Male</td>\n",
       "      <td>0</td>\n",
       "      <td>0</td>\n",
       "      <td>40</td>\n",
       "      <td>United-States</td>\n",
       "      <td>1</td>\n",
       "    </tr>\n",
       "  </tbody>\n",
       "</table>\n",
       "</div>"
      ],
      "text/plain": [
       "       Age workclass  Fnlwgt      Education  Education-num  \\\n",
       "8986    20   Private   50397   Some-college             10   \n",
       "30812   22   Private  172766   Some-college             10   \n",
       "16010   50   Private  166220     Assoc-acdm             12   \n",
       "5694    44   Private  182616      Assoc-voc             11   \n",
       "11899   39   Private  167140        Masters             14   \n",
       "\n",
       "            Marital-status        Occupation Relationship    Race      Sex  \\\n",
       "8986    Married-civ-spouse             Sales      Husband   Black     Male   \n",
       "30812        Never-married             Sales    Own-child   White   Female   \n",
       "16010   Married-civ-spouse             Sales         Wife   White   Female   \n",
       "5694    Married-civ-spouse      Tech-support      Husband   White     Male   \n",
       "11899   Married-civ-spouse   Exec-managerial      Husband   White     Male   \n",
       "\n",
       "       Capital-gain  Capital-loss  Hours-per-week  Native-country  Money  \n",
       "8986              0             0              35   United-States      1  \n",
       "30812             0             0              40   United-States      1  \n",
       "16010          3942             0              40   United-States      1  \n",
       "5694              0             0              40   United-States      0  \n",
       "11899             0             0              40   United-States      1  "
      ]
     },
     "execution_count": 11,
     "metadata": {},
     "output_type": "execute_result"
    }
   ],
   "source": [
    "df.sample(5)"
   ]
  },
  {
   "cell_type": "markdown",
   "id": "6d6876f6-086e-42bc-a492-a71844b6b072",
   "metadata": {},
   "source": [
    "Класс не сбалансированы:"
   ]
  },
  {
   "cell_type": "code",
   "execution_count": 39,
   "id": "0595c9fb-d82c-4b6d-8c9d-f6e0291db09c",
   "metadata": {},
   "outputs": [
    {
     "data": {
      "text/plain": [
       "1    706\n",
       "0    215\n",
       "Name: Money, dtype: int64"
      ]
     },
     "execution_count": 39,
     "metadata": {},
     "output_type": "execute_result"
    }
   ],
   "source": [
    "df.Money.value_counts()"
   ]
  },
  {
   "cell_type": "markdown",
   "id": "990ab1c8-acab-4dab-918b-1964268cffa7",
   "metadata": {},
   "source": [
    "Остальные категориальные признаки кодируются при построении дерева через Label Encoding."
   ]
  },
  {
   "cell_type": "markdown",
   "id": "9c1351a6-ec4e-45ef-bc0e-6d06ba00315a",
   "metadata": {},
   "source": [
    "Train/test split"
   ]
  },
  {
   "cell_type": "code",
   "execution_count": 12,
   "id": "e4840879-4861-49b0-976d-e5a133b3820d",
   "metadata": {},
   "outputs": [],
   "source": [
    "random_state = 42\n",
    "\n",
    "X = df.drop(['Money'], axis=1)\n",
    "y = df['Money']\n",
    "\n",
    "X_train, X_test, y_train, y_test = train_test_split(X, y, test_size=0.33, random_state=random_state)"
   ]
  },
  {
   "cell_type": "markdown",
   "id": "7c570dc4-5148-4eb2-8fd4-1e286ecaf169",
   "metadata": {},
   "source": [
    "# Build & train custom decision tree"
   ]
  },
  {
   "cell_type": "markdown",
   "id": "5c8af3da-8d06-4696-8841-0685c75cd3d3",
   "metadata": {},
   "source": [
    "Обучим наше кастомное дерево, в котором используется критерий Джини."
   ]
  },
  {
   "cell_type": "code",
   "execution_count": 13,
   "id": "27216d7c-5760-4117-b814-189ee029a328",
   "metadata": {},
   "outputs": [],
   "source": [
    "tree = DecisionTreeModel(max_depth=5, min_node_size=20)\n",
    "df_tree = tree.fit(X_train, y_train)"
   ]
  },
  {
   "cell_type": "markdown",
   "id": "28d5e9f7-ce4c-4ff4-a86b-d4698e455cb0",
   "metadata": {},
   "source": [
    "Закодированные категориальные признаки:"
   ]
  },
  {
   "cell_type": "code",
   "execution_count": 22,
   "id": "d1c46822-a7be-42a0-a4ed-75e4feb4747e",
   "metadata": {},
   "outputs": [
    {
     "data": {
      "text/plain": [
       "[[{' Self-emp-inc': 0,\n",
       "   ' Federal-gov': 1,\n",
       "   ' Self-emp-not-inc': 2,\n",
       "   ' Local-gov': 3,\n",
       "   ' State-gov': 4,\n",
       "   ' Private': 5,\n",
       "   ' Without-pay': 6},\n",
       "  {' Doctorate': 0,\n",
       "   ' Prof-school': 1,\n",
       "   ' Masters': 2,\n",
       "   ' Bachelors': 3,\n",
       "   ' Assoc-voc': 4,\n",
       "   ' Assoc-acdm': 5,\n",
       "   ' 12th': 6,\n",
       "   ' Some-college': 7,\n",
       "   ' HS-grad': 8,\n",
       "   ' 10th': 9,\n",
       "   ' 7th-8th': 10,\n",
       "   ' 11th': 11,\n",
       "   ' 5th-6th': 12,\n",
       "   ' Preschool': 13,\n",
       "   ' 1st-4th': 14,\n",
       "   ' 9th': 15},\n",
       "  {' Married-civ-spouse': 0,\n",
       "   ' Separated': 1,\n",
       "   ' Divorced': 2,\n",
       "   ' Widowed': 3,\n",
       "   ' Never-married': 4,\n",
       "   ' Married-spouse-absent': 5},\n",
       "  {' Prof-specialty': 0,\n",
       "   ' Exec-managerial': 1,\n",
       "   ' Protective-serv': 2,\n",
       "   ' Tech-support': 3,\n",
       "   ' Transport-moving': 4,\n",
       "   ' Sales': 5,\n",
       "   ' Machine-op-inspct': 6,\n",
       "   ' Craft-repair': 7,\n",
       "   ' Farming-fishing': 8,\n",
       "   ' Handlers-cleaners': 9,\n",
       "   ' Adm-clerical': 10,\n",
       "   ' Other-service': 11},\n",
       "  {' Wife': 0,\n",
       "   ' Husband': 1,\n",
       "   ' Not-in-family': 2,\n",
       "   ' Other-relative': 3,\n",
       "   ' Unmarried': 4,\n",
       "   ' Own-child': 5},\n",
       "  {' Amer-Indian-Eskimo': 0,\n",
       "   ' White': 1,\n",
       "   ' Asian-Pac-Islander': 2,\n",
       "   ' Other': 3,\n",
       "   ' Black': 4},\n",
       "  {' Male': 0, ' Female': 1},\n",
       "  {' Italy': 0,\n",
       "   ' Germany': 1,\n",
       "   ' Philippines': 2,\n",
       "   ' Canada': 3,\n",
       "   ' Poland': 4,\n",
       "   ' Columbia': 5,\n",
       "   ' United-States': 6,\n",
       "   ' Guatemala': 7,\n",
       "   ' Nicaragua': 8,\n",
       "   ' Vietnam': 9,\n",
       "   ' Cuba': 10,\n",
       "   ' Portugal': 11,\n",
       "   ' Jamaica': 12,\n",
       "   ' Ireland': 13,\n",
       "   ' El-Salvador': 14,\n",
       "   ' Ecuador': 15,\n",
       "   ' Mexico': 16,\n",
       "   ' South': 17,\n",
       "   ' India': 18,\n",
       "   ' Puerto-Rico': 19,\n",
       "   ' Dominican-Republic': 20,\n",
       "   ' China': 21}],\n",
       " [{0: ' Self-emp-inc',\n",
       "   1: ' Federal-gov',\n",
       "   2: ' Self-emp-not-inc',\n",
       "   3: ' Local-gov',\n",
       "   4: ' State-gov',\n",
       "   5: ' Private',\n",
       "   6: ' Without-pay'},\n",
       "  {0: ' Doctorate',\n",
       "   1: ' Prof-school',\n",
       "   2: ' Masters',\n",
       "   3: ' Bachelors',\n",
       "   4: ' Assoc-voc',\n",
       "   5: ' Assoc-acdm',\n",
       "   6: ' 12th',\n",
       "   7: ' Some-college',\n",
       "   8: ' HS-grad',\n",
       "   9: ' 10th',\n",
       "   10: ' 7th-8th',\n",
       "   11: ' 11th',\n",
       "   12: ' 5th-6th',\n",
       "   13: ' Preschool',\n",
       "   14: ' 1st-4th',\n",
       "   15: ' 9th'},\n",
       "  {0: ' Married-civ-spouse',\n",
       "   1: ' Separated',\n",
       "   2: ' Divorced',\n",
       "   3: ' Widowed',\n",
       "   4: ' Never-married',\n",
       "   5: ' Married-spouse-absent'},\n",
       "  {0: ' Prof-specialty',\n",
       "   1: ' Exec-managerial',\n",
       "   2: ' Protective-serv',\n",
       "   3: ' Tech-support',\n",
       "   4: ' Transport-moving',\n",
       "   5: ' Sales',\n",
       "   6: ' Machine-op-inspct',\n",
       "   7: ' Craft-repair',\n",
       "   8: ' Farming-fishing',\n",
       "   9: ' Handlers-cleaners',\n",
       "   10: ' Adm-clerical',\n",
       "   11: ' Other-service'},\n",
       "  {0: ' Wife',\n",
       "   1: ' Husband',\n",
       "   2: ' Not-in-family',\n",
       "   3: ' Other-relative',\n",
       "   4: ' Unmarried',\n",
       "   5: ' Own-child'},\n",
       "  {0: ' Amer-Indian-Eskimo',\n",
       "   1: ' White',\n",
       "   2: ' Asian-Pac-Islander',\n",
       "   3: ' Other',\n",
       "   4: ' Black'},\n",
       "  {0: ' Male', 1: ' Female'},\n",
       "  {0: ' Italy',\n",
       "   1: ' Germany',\n",
       "   2: ' Philippines',\n",
       "   3: ' Canada',\n",
       "   4: ' Poland',\n",
       "   5: ' Columbia',\n",
       "   6: ' United-States',\n",
       "   7: ' Guatemala',\n",
       "   8: ' Nicaragua',\n",
       "   9: ' Vietnam',\n",
       "   10: ' Cuba',\n",
       "   11: ' Portugal',\n",
       "   12: ' Jamaica',\n",
       "   13: ' Ireland',\n",
       "   14: ' El-Salvador',\n",
       "   15: ' Ecuador',\n",
       "   16: ' Mexico',\n",
       "   17: ' South',\n",
       "   18: ' India',\n",
       "   19: ' Puerto-Rico',\n",
       "   20: ' Dominican-Republic',\n",
       "   21: ' China'}]]"
      ]
     },
     "execution_count": 22,
     "metadata": {},
     "output_type": "execute_result"
    }
   ],
   "source": [
    "df_tree.sorted_cat_features"
   ]
  },
  {
   "cell_type": "code",
   "execution_count": 23,
   "id": "53b81783-4702-4ec9-a9fd-95f6aabaecdc",
   "metadata": {},
   "outputs": [],
   "source": [
    "y_pred = tree.predict(X_test)"
   ]
  },
  {
   "cell_type": "code",
   "execution_count": 20,
   "id": "846d8052-6f46-4941-8ffb-b435a1e023a4",
   "metadata": {},
   "outputs": [],
   "source": [
    "def classification_report(y_true, y_pred):\n",
    "    print(f'Accuracy: \\t{accuracy_score(y_true, y_pred)}')\n",
    "    print(f'Precision:\\t{precision_score(y_true, y_pred)}')\n",
    "    print(f'Recall:   \\t{recall_score(y_true, y_pred)}')\n",
    "    print(f'F1-score: \\t{f1_score(y_true, y_pred)}')"
   ]
  },
  {
   "cell_type": "code",
   "execution_count": 21,
   "id": "8b60fe40-060b-43b9-81ac-8a3b11f30848",
   "metadata": {},
   "outputs": [
    {
     "name": "stdout",
     "output_type": "stream",
     "text": [
      "Accuracy: \t0.8223684210526315\n",
      "Precision:\t0.8913043478260869\n",
      "Recall:   \t0.8760683760683761\n",
      "F1-score: \t0.8836206896551724\n"
     ]
    }
   ],
   "source": [
    "classification_report(y_test.to_numpy(), y_pred)"
   ]
  },
  {
   "cell_type": "markdown",
   "id": "688c4c17-e48f-4b59-8848-ff1b3ebacc7c",
   "metadata": {},
   "source": [
    "# Compare with decision tree from sklearn"
   ]
  },
  {
   "cell_type": "code",
   "execution_count": 25,
   "id": "29cc495d-a4a8-4649-97f5-6199985c7bef",
   "metadata": {},
   "outputs": [],
   "source": [
    "le = LabelEncoder()\n",
    "X_train_sk = X_train.apply(le.fit_transform)\n",
    "X_test_sk = X_test.apply(le.fit_transform)"
   ]
  },
  {
   "cell_type": "code",
   "execution_count": 31,
   "id": "72355481-a11a-4123-becc-e2c269d17de1",
   "metadata": {},
   "outputs": [
    {
     "data": {
      "text/plain": [
       "DecisionTreeClassifier(max_depth=5, min_samples_leaf=20, random_state=42)"
      ]
     },
     "execution_count": 31,
     "metadata": {},
     "output_type": "execute_result"
    }
   ],
   "source": [
    "tree_sk = DecisionTreeClassifier(max_depth=5, min_samples_leaf=20, criterion='gini', random_state=random_state)\n",
    "tree_sk.fit(X_train_sk, y_train)"
   ]
  },
  {
   "cell_type": "code",
   "execution_count": 32,
   "id": "97e67b4c-75c1-4154-9a8a-6aacde69ef4c",
   "metadata": {},
   "outputs": [],
   "source": [
    "y_pred_sk = tree.predict(X_test_sk)"
   ]
  },
  {
   "cell_type": "code",
   "execution_count": 33,
   "id": "23984761-b086-4e94-8ced-e1e696627de5",
   "metadata": {},
   "outputs": [
    {
     "name": "stdout",
     "output_type": "stream",
     "text": [
      "Accuracy: \t0.6282894736842105\n",
      "Precision:\t0.8102564102564103\n",
      "Recall:   \t0.6752136752136753\n",
      "F1-score: \t0.7365967365967366\n"
     ]
    }
   ],
   "source": [
    "classification_report(y_test, y_pred_sk)"
   ]
  },
  {
   "cell_type": "markdown",
   "id": "413e83df-5bb6-42ef-bc44-aa2ad13f4fc4",
   "metadata": {},
   "source": [
    "При равных гиперпарметрах кастомное дерево показало лучший результат, чем дерево из Sklearn."
   ]
  },
  {
   "cell_type": "markdown",
   "id": "9c7aff11-7c79-43fe-af8b-ebefd1a5b14e",
   "metadata": {},
   "source": [
    "# Random Forest & OOB estimation"
   ]
  },
  {
   "cell_type": "markdown",
   "id": "cac04189-1bf6-446d-aba3-ae42cf294997",
   "metadata": {},
   "source": [
    "Поскольку работаем случайный лес, то возьмем деревья с большей глубиной, чем на прошлых этапах."
   ]
  },
  {
   "cell_type": "code",
   "execution_count": 35,
   "id": "d72b637d-b57a-483d-910d-31a994d39cd6",
   "metadata": {},
   "outputs": [
    {
     "data": {
      "text/plain": [
       "RandomForestClassifier(max_depth=10, random_state=42)"
      ]
     },
     "execution_count": 35,
     "metadata": {},
     "output_type": "execute_result"
    }
   ],
   "source": [
    "rf = RandomForestClassifier(n_estimators=100, max_depth=10, criterion='gini', random_state=42)\n",
    "rf.fit(X_train_sk, y_train)"
   ]
  },
  {
   "cell_type": "code",
   "execution_count": 37,
   "id": "d3228e47-0f61-4794-b3a8-b2b8e880fcd8",
   "metadata": {},
   "outputs": [],
   "source": [
    "y_pred_rf = rf.predict(X_test_sk)"
   ]
  },
  {
   "cell_type": "code",
   "execution_count": 38,
   "id": "bfd64af9-506b-4f59-aa94-0750f016134d",
   "metadata": {},
   "outputs": [
    {
     "name": "stdout",
     "output_type": "stream",
     "text": [
      "Accuracy: \t0.8421052631578947\n",
      "Precision:\t0.8394160583941606\n",
      "Recall:   \t0.9829059829059829\n",
      "F1-score: \t0.905511811023622\n"
     ]
    }
   ],
   "source": [
    "classification_report(y_test, y_pred_rf)"
   ]
  },
  {
   "cell_type": "markdown",
   "id": "53d9edd8-b85d-4978-a89e-e71a07e1decf",
   "metadata": {},
   "source": [
    "Лучший результат по F1-мере."
   ]
  },
  {
   "cell_type": "markdown",
   "id": "06d513cf-0061-47bf-bb0b-12046948169d",
   "metadata": {},
   "source": [
    "Сделаем оценку OOB"
   ]
  },
  {
   "cell_type": "code",
   "execution_count": 47,
   "id": "b72526b4-3a5d-4aa2-8f46-162a2f842c0d",
   "metadata": {},
   "outputs": [],
   "source": [
    "clfs = [(\"RF, max_features='log2'\",\n",
    "         RandomForestClassifier(warm_start=True, \n",
    "                                max_features='log2',\n",
    "                                oob_score=True, \n",
    "                                random_state=random_state)\n",
    "        ),\n",
    "        (\"RF, max_features=None\",\n",
    "         RandomForestClassifier(warm_start=True, \n",
    "                                max_features=None,\n",
    "                                oob_score=True, \n",
    "                                random_state=random_state)\n",
    "        )]\n"
   ]
  },
  {
   "cell_type": "code",
   "execution_count": 48,
   "id": "191e891f-d4e6-43cf-b095-0dfe7f109e81",
   "metadata": {},
   "outputs": [
    {
     "data": {
      "text/plain": [
       "(617, 14)"
      ]
     },
     "execution_count": 48,
     "metadata": {},
     "output_type": "execute_result"
    }
   ],
   "source": [
    "X_train_sk.shape"
   ]
  },
  {
   "cell_type": "code",
   "execution_count": 49,
   "id": "d549b693-f7ec-4fa8-aa09-c884ef96e6c0",
   "metadata": {},
   "outputs": [
    {
     "data": {
      "application/vnd.jupyter.widget-view+json": {
       "model_id": "9cd983ab969d42f2babf0dd325db47eb",
       "version_major": 2,
       "version_minor": 0
      },
      "text/plain": [
       "  0%|          | 0/2 [00:00<?, ?it/s]"
      ]
     },
     "metadata": {},
     "output_type": "display_data"
    }
   ],
   "source": [
    "errors = OrderedDict((label, []) for label, _ in clfs)\n",
    "min_estimators, max_estimators = 10, 300\n",
    "\n",
    "for label, clf in tqdm(clfs):\n",
    "    for i in range(min_estimators, max_estimators + 1, 10):\n",
    "        clf.set_params(n_estimators=i)\n",
    "        clf.fit(X_train_sk, y_train)\n",
    "        errors[label].append((i, 1 - clf.oob_score_))"
   ]
  },
  {
   "cell_type": "code",
   "execution_count": 51,
   "id": "172cf70d-dfbf-4fc1-b568-7884d284f265",
   "metadata": {},
   "outputs": [
    {
     "data": {
      "image/png": "[encoded data removed]",
      "text/plain": [
       "<Figure size 1008x432 with 1 Axes>"
      ]
     },
     "metadata": {
      "needs_background": "light"
     },
     "output_type": "display_data"
    }
   ],
   "source": [
    "plt.figure(figsize=(14, 6))\n",
    "plt.title('OOB estimators')\n",
    "for label, clf_err in errors.items():\n",
    "    xs, ys = zip(*clf_err)\n",
    "    plt.plot(xs, ys, label=label)\n",
    "\n",
    "plt.xlim(min_estimators, max_estimators)\n",
    "plt.xlabel(\"Forest size (n_estimators)\")\n",
    "plt.ylabel(\"OOB error value\")\n",
    "plt.legend()\n",
    "plt.grid()\n",
    "plt.show()"
   ]
  },
  {
   "cell_type": "code",
   "execution_count": null,
   "id": "55a87b80-1b89-4477-b155-605092e9f2d8",
   "metadata": {},
   "outputs": [],
   "source": []
  }
 ],
 "metadata": {
  "kernelspec": {
   "display_name": "Python l_stuff",
   "language": "python",
   "name": "l_stuff"
  },
  "language_info": {
   "codemirror_mode": {
    "name": "ipython",
    "version": 3
   },
   "file_extension": ".py",
   "mimetype": "text/x-python",
   "name": "python",
   "nbconvert_exporter": "python",
   "pygments_lexer": "ipython3",
   "version": "3.8.10"
  }
 },
 "nbformat": 4,
 "nbformat_minor": 5
}
