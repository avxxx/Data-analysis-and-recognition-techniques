{
 "cells": [
  {
   "cell_type": "markdown",
   "id": "4db72167-9f7f-4470-aba9-08e51caea167",
   "metadata": {},
   "source": [
    "# Imports"
   ]
  },
  {
   "cell_type": "code",
   "execution_count": 23,
   "id": "16421ea3",
   "metadata": {},
   "outputs": [],
   "source": [
    "import numpy as np\n",
    "import torch\n",
    "import time\n",
    "import pandas as pd\n",
    "import matplotlib.pyplot as plt\n",
    "import sklearn\n",
    "from random import sample\n",
    "import os\n",
    "from datetime import datetime, timedelta\n",
    "from calendar import monthrange\n",
    "from tqdm.notebook import tqdm\n",
    "\n",
    "import warnings\n",
    "warnings.filterwarnings(\"ignore\")"
   ]
  },
  {
   "cell_type": "markdown",
   "id": "ffef86bb-7ea8-423c-a294-e108897f1e0a",
   "metadata": {},
   "source": [
    "# Define model"
   ]
  },
  {
   "cell_type": "code",
   "execution_count": 126,
   "id": "c5aafb0a-d6b9-4e91-8f17-2f873a55ecd7",
   "metadata": {},
   "outputs": [],
   "source": [
    "class LogisticRegression:\n",
    "    \"\"\"\n",
    "    Logistic regression for scatch on PyTorch.\n",
    "    Batching not implemented.\n",
    "    \n",
    "    \"\"\"\n",
    "    \n",
    "    def __init__(self, device='cpu'):\n",
    "        self.device = device\n",
    "     \n",
    "    \n",
    "    def forward(self, x, w, b):\n",
    "        z = torch.dot(x, w).reshape(1)\n",
    "        z += b\n",
    "        p = 1.0 / (1.0 + torch.exp(-z))\n",
    "        return p\n",
    "        \n",
    "    def fit(self, X, y, penalty=False, epochs=50, learning_rate=3e-4, verbose=1):\n",
    "        \n",
    "        self.X = X.to(self.device) \n",
    "        self.y = y.to(self.device)\n",
    "        \n",
    "        if penalty:\n",
    "            assert (penalty == 'l2') or (penalty == 'l1')\n",
    "        self.penalty = penalty\n",
    "        \n",
    "        assert self.X.size(0) == self.y.size(0)\n",
    "        \n",
    "        \n",
    "        self.epochs = epochs\n",
    "        self.learning_rate = learning_rate\n",
    "        \n",
    "        self.w = torch.rand(self.X.size(1), dtype=T.float32, requires_grad=True).to(self.device)\n",
    "        \n",
    "        self.w.grad = torch.zeros(self.X.size(1))\n",
    "        self.w.retain_grad()\n",
    "\n",
    "        self.b = torch.zeros(1, dtype=T.float32, requires_grad=True).to(self.device)\n",
    "        self.b.grad = torch.zeros(1)\n",
    "        self.b.retain_grad()\n",
    "        \n",
    "        \n",
    "        indices = np.arange(self.X.size(0))\n",
    "        for epoch in tqdm(range(self.epochs)):\n",
    "            tot_loss = torch.zeros(1, dtype=T.float32, requires_grad=True).to(device)\n",
    "            tot_loss.grad = torch.zeros(1)\n",
    "            tot_loss.retain_grad()\n",
    "            \n",
    "            np.random.shuffle(indices)\n",
    "            for i in indices:\n",
    "                x = self.X[i]\n",
    "                target = self.y[i]\n",
    "                out = self.forward(x=x, w=self.w, b=self.b)\n",
    "                # почему такой лосс?\n",
    "                loss = (out - target).pow(2).sum()\n",
    "                tot_loss = loss + tot_loss\n",
    "            \n",
    "            tot_loss = tot_loss \n",
    "            if self.penalty == 'l1':\n",
    "                tot_loss = tot_loss + torch.norm(self.w, p=1)\n",
    "            elif self.penalty == 'l2':\n",
    "                tot_loss = tot_loss + torch.norm(self.w, p=2)\n",
    "                \n",
    "            tot_loss.backward(retain_graph=True)  # compute gradients\n",
    "\n",
    "            self.w.data += -1 * self.learning_rate * self.w.grad.data\n",
    "            self.b.data += -1 * self.learning_rate * self.b.grad.data\n",
    "\n",
    "            self.w.grad = torch.zeros(self.X.size(1))\n",
    "            self.b.grad = torch.zeros(1)\n",
    "\n",
    "            if epoch % verbose == 0:\n",
    "                print(f\"Epoch {epoch} / {self.epochs}\", end=\"\")\n",
    "                print(\"   Loss = %6.4f\" % (tot_loss / self.X.size(0)))\n",
    "        \n",
    "        print(f\"Total loss = %6.4f\" % (tot_loss / self.X.size(0)))\n",
    "\n",
    "    def predict_score(self, x):\n",
    "        return torch.matmul(x, self.w) + self.b\n",
    "    \n",
    "    def predict_proba(self, x):\n",
    "        p = 1.0 / (1.0 + torch.exp(-self.predict_score(x)))\n",
    "        return p\n"
   ]
  },
  {
   "cell_type": "code",
   "execution_count": 99,
   "id": "046c2f86-b702-40cb-8ea0-590ff9d2bf99",
   "metadata": {},
   "outputs": [],
   "source": [
    "x = torch.eye(4, 5)\n",
    "w = 2 * torch.ones(5)\n"
   ]
  },
  {
   "cell_type": "code",
   "execution_count": 102,
   "id": "e0ab74d3-7173-4a95-9c09-864e4e9d2f36",
   "metadata": {},
   "outputs": [
    {
     "data": {
      "text/plain": [
       "tensor([3., 3., 3., 3.])"
      ]
     },
     "execution_count": 102,
     "metadata": {},
     "output_type": "execute_result"
    }
   ],
   "source": [
    "torch.matmul(x, w) + 1"
   ]
  },
  {
   "cell_type": "markdown",
   "id": "78e15a5e-b693-4c0c-b123-53b49def4d22",
   "metadata": {},
   "source": [
    "# Prepare data"
   ]
  },
  {
   "cell_type": "code",
   "execution_count": 62,
   "id": "19df116f-b4c8-400f-9051-f2741d96380d",
   "metadata": {},
   "outputs": [],
   "source": [
    "df = pd.read_csv('Shanghai_HMT_2010.csv')\n",
    "df.dropna(inplace=True)"
   ]
  },
  {
   "cell_type": "code",
   "execution_count": 63,
   "id": "eada2a6e-db24-4e00-8379-99b41685b699",
   "metadata": {},
   "outputs": [],
   "source": [
    "target_median = np.median(df.PRES)\n",
    "df['target'] = np.where(df.PRES >= target_median, 1, 0)"
   ]
  },
  {
   "cell_type": "code",
   "execution_count": 64,
   "id": "f89f7db8-9fc0-4635-b82d-3bf22ad34e56",
   "metadata": {},
   "outputs": [],
   "source": [
    "df = df.sort_values(by=['year', 'month', 'day', 'hour'])"
   ]
  },
  {
   "cell_type": "code",
   "execution_count": 65,
   "id": "08dfbb21-c703-484b-98ce-af0213c6594f",
   "metadata": {},
   "outputs": [],
   "source": [
    "df['month_sin'] = np.sin(2 * np.pi * df.month / 12.0)\n",
    "df['month_cos'] = np.cos(2 * np.pi * df.month / 12.0)\n",
    "\n",
    "df['hour_sin'] = np.sin(2 * np.pi * df.hour / 24.0)\n",
    "df['hour_cos'] = np.cos(2 * np.pi * df.hour / 24.0)\n",
    "\n",
    "df['day_of_month_sin'] = df.apply(lambda r: np.sin(2 * np.pi * r.day / monthrange(r.year, r.month)[1]),\n",
    "                                  axis=1)\n",
    "df['day_of_month_cos'] = df.apply(lambda r: np.cos(2 * np.pi * r.day / monthrange(r.year, r.month)[1]),\n",
    "                                  axis=1)\n"
   ]
  },
  {
   "cell_type": "markdown",
   "id": "294644d1-e95b-4d10-966c-0378fcdd519b",
   "metadata": {},
   "source": [
    "Снова используем TS-валидацию"
   ]
  },
  {
   "cell_type": "code",
   "execution_count": 66,
   "id": "a040323d-02e4-4c5c-b27f-395a9397f008",
   "metadata": {},
   "outputs": [],
   "source": [
    "df_train = df[df.year < 2015]\n",
    "df_val = df[df.year >= 2015]"
   ]
  },
  {
   "cell_type": "code",
   "execution_count": 67,
   "id": "a261ac7f-8da6-4644-a886-d893b0b745db",
   "metadata": {},
   "outputs": [
    {
     "data": {
      "text/plain": [
       "((14587, 24), (6849, 24))"
      ]
     },
     "execution_count": 67,
     "metadata": {},
     "output_type": "execute_result"
    }
   ],
   "source": [
    "df_train.shape, df_val.shape"
   ]
  },
  {
   "cell_type": "code",
   "execution_count": 68,
   "id": "f4e1edc3-fa4c-4a41-8e5a-2bba0a4dfd01",
   "metadata": {},
   "outputs": [],
   "source": [
    "from category_encoders import (\n",
    "    JamesSteinEncoder, \n",
    "    CatBoostEncoder, \n",
    "    TargetEncoder\n",
    ")\n",
    "\n",
    "ce_target = TargetEncoder(cols = ['cbwd'])\n",
    "\n",
    "ce_target.fit(df_train.cbwd, df_train.target)\n",
    "\n",
    "df_train['cbwd_te'] = ce_target.transform(df_train.cbwd).cbwd.values\n",
    "df_val['cbwd_te'] = ce_target.transform(df_val.cbwd).cbwd.values"
   ]
  },
  {
   "cell_type": "code",
   "execution_count": 96,
   "id": "5c1feaa0-dacc-4862-a0d3-7f8662796459",
   "metadata": {},
   "outputs": [
    {
     "data": {
      "text/plain": [
       "((14587, 25), (6849, 25))"
      ]
     },
     "execution_count": 96,
     "metadata": {},
     "output_type": "execute_result"
    }
   ],
   "source": [
    "df_train.shape, df_val.shape"
   ]
  },
  {
   "cell_type": "code",
   "execution_count": 69,
   "id": "31349cd4-81fe-4665-8c6f-c3f6531240e5",
   "metadata": {},
   "outputs": [],
   "source": [
    "used_cols = ['year', 'month_sin', 'month_cos', 'day_of_month_sin',\n",
    "             'day_of_month_cos', 'hour_sin', 'hour_cos', \n",
    "             'cbwd_te', 'season', 'PM_Jingan',\n",
    "             'PM_US Post', 'PM_Xuhui', 'DEWP', 'HUMI', 'TEMP', 'Iws',\n",
    "             'precipitation', 'Iprec']\n",
    "target = 'target'"
   ]
  },
  {
   "cell_type": "code",
   "execution_count": 70,
   "id": "200881d0-185b-42ed-83a2-aed41a91ffd8",
   "metadata": {},
   "outputs": [],
   "source": [
    "from sklearn.preprocessing import StandardScaler\n",
    "\n",
    "sc = StandardScaler()\n",
    "x_train = sc.fit_transform(df_train[used_cols])\n",
    "x_val = sc.transform(df_val[used_cols])"
   ]
  },
  {
   "cell_type": "markdown",
   "id": "a7488eee-a16e-4a7b-949a-1a9d694ef7b5",
   "metadata": {},
   "source": [
    "# Train"
   ]
  },
  {
   "cell_type": "code",
   "execution_count": 72,
   "id": "9d64f8cb",
   "metadata": {},
   "outputs": [
    {
     "name": "stdout",
     "output_type": "stream",
     "text": [
      "cpu\n"
     ]
    }
   ],
   "source": [
    "device = torch.device(\"cuda\" if torch.cuda.is_available() else \"cpu\")\n",
    "print(device)"
   ]
  },
  {
   "cell_type": "code",
   "execution_count": 73,
   "id": "7e7179e8-8af1-4e71-b118-6c949f94be3f",
   "metadata": {},
   "outputs": [],
   "source": [
    "x_train = torch.tensor(x_train, dtype=T.float32).to(device)\n",
    "y_train = torch.tensor(df_train.target.values, dtype=T.long).to(device)"
   ]
  },
  {
   "cell_type": "code",
   "execution_count": 114,
   "id": "b4ea5ead-5545-4b4f-a570-6557df9a3ffd",
   "metadata": {},
   "outputs": [
    {
     "data": {
      "application/vnd.jupyter.widget-view+json": {
       "model_id": "3f26cd5dade84569989590cf87312a05",
       "version_major": 2,
       "version_minor": 0
      },
      "text/plain": [
       "  0%|          | 0/100 [00:00<?, ?it/s]"
      ]
     },
     "metadata": {},
     "output_type": "display_data"
    },
    {
     "name": "stdout",
     "output_type": "stream",
     "text": [
      "Epoch 0 / 100   Loss = 0.3403\n",
      "Epoch 5 / 100   Loss = 0.0702\n",
      "Epoch 10 / 100   Loss = 0.0650\n",
      "Epoch 15 / 100   Loss = 0.0633\n",
      "Epoch 20 / 100   Loss = 0.0622\n",
      "Epoch 25 / 100   Loss = 0.0614\n",
      "Epoch 30 / 100   Loss = 0.0607\n",
      "Epoch 35 / 100   Loss = 0.0601\n",
      "Epoch 40 / 100   Loss = 0.0596\n",
      "Epoch 45 / 100   Loss = 0.0593\n",
      "Epoch 50 / 100   Loss = 0.0591\n",
      "Epoch 55 / 100   Loss = 0.0589\n",
      "Epoch 60 / 100   Loss = 0.0588\n",
      "Epoch 65 / 100   Loss = 0.0588\n",
      "Epoch 70 / 100   Loss = 0.0587\n",
      "Epoch 75 / 100   Loss = 0.0587\n",
      "Epoch 80 / 100   Loss = 0.0587\n",
      "Epoch 85 / 100   Loss = 0.0586\n",
      "Epoch 90 / 100   Loss = 0.0586\n",
      "Epoch 95 / 100   Loss = 0.0586\n",
      "Total loss = 0.0586\n"
     ]
    }
   ],
   "source": [
    "cls = LogisticRegression(device=device)\n",
    "\n",
    "cls.fit(x_train, y_train, penalty='l2', epochs=100, verbose=5, learning_rate=3e-3)"
   ]
  },
  {
   "cell_type": "markdown",
   "id": "b43bdb87-35e9-4f4d-8cdf-7f08e99e5986",
   "metadata": {},
   "source": [
    "# Evaluate"
   ]
  },
  {
   "cell_type": "code",
   "execution_count": 115,
   "id": "def0adf2-dd17-4e1b-8993-e4cb57c301cd",
   "metadata": {},
   "outputs": [],
   "source": [
    "x_val = torch.tensor(x_val, dtype=T.float32).to(device)\n",
    "y_val = torch.tensor(df_val.target.values, dtype=T.long).to(device)"
   ]
  },
  {
   "cell_type": "code",
   "execution_count": 120,
   "id": "6a98f61f-d35b-466c-9942-56a48dd1c9e1",
   "metadata": {},
   "outputs": [
    {
     "name": "stdout",
     "output_type": "stream",
     "text": [
      "torch.Size([6849, 18])\n",
      "torch.Size([18])\n",
      "torch.Size([1])\n"
     ]
    }
   ],
   "source": [
    "y_pred = cls.predict_proba(x_val).detach().cpu().numpy()"
   ]
  },
  {
   "cell_type": "code",
   "execution_count": 123,
   "id": "197cad02-7dbb-4e89-a590-109bc8e24428",
   "metadata": {},
   "outputs": [
    {
     "data": {
      "image/png": "[encoded data removed]",
      "text/plain": [
       "<Figure size 432x288 with 1 Axes>"
      ]
     },
     "metadata": {
      "needs_background": "light"
     },
     "output_type": "display_data"
    }
   ],
   "source": [
    "import seaborn as sns\n",
    "\n",
    "sns.distplot(y_pred, label='Prediction')\n",
    "sns.distplot(df_val.target, label='True')\n",
    "plt.legend()\n",
    "plt.show()"
   ]
  },
  {
   "cell_type": "code",
   "execution_count": 127,
   "id": "7c265942-1e32-4b55-8c98-646e2c9f333d",
   "metadata": {},
   "outputs": [
    {
     "data": {
      "text/plain": [
       "0    3471\n",
       "1    3378\n",
       "Name: target, dtype: int64"
      ]
     },
     "execution_count": 127,
     "metadata": {},
     "output_type": "execute_result"
    }
   ],
   "source": [
    "df_val.target.value_counts()"
   ]
  },
  {
   "cell_type": "markdown",
   "id": "f5ecaf3b-dd4e-4dc7-a9e0-42805f516db1",
   "metadata": {},
   "source": [
    "Классы сбалансированы, что логично, так как мы сплитовали их по медиане."
   ]
  },
  {
   "cell_type": "code",
   "execution_count": 122,
   "id": "7232f848-7f6a-4856-b230-67e482f23ade",
   "metadata": {},
   "outputs": [
    {
     "data": {
      "text/plain": [
       "(4.7672387e-12, 1.0)"
      ]
     },
     "execution_count": 122,
     "metadata": {},
     "output_type": "execute_result"
    }
   ],
   "source": [
    "y_pred.min(), y_pred.max()"
   ]
  },
  {
   "cell_type": "code",
   "execution_count": 124,
   "id": "b05258cd-e2b6-4b28-bbea-50550a084b64",
   "metadata": {},
   "outputs": [],
   "source": [
    "from sklearn.metrics import (\n",
    "    accuracy_score,\n",
    "    f1_score,\n",
    "    recall_score,\n",
    "    roc_auc_score\n",
    ")\n",
    "def report(y_true, y_pred_proba):\n",
    "    y_pred_labels = np.where(y_pred_proba >= 0.5, 1, 0)\n",
    "    print('Accuracy:  \\t{}'.format(accuracy_score(y_true, y_pred_labels)))\n",
    "    print('F1-score:  \\t{}'.format(f1_score(y_true, y_pred_labels)))\n",
    "    print('Recall:    \\t{}'.format(recall_score(y_true, y_pred_labels)))\n",
    "    print('ROCAUC:    \\t{}'.format(roc_auc_score(y_true, y_pred_proba)))"
   ]
  },
  {
   "cell_type": "code",
   "execution_count": 125,
   "id": "da7e9785",
   "metadata": {},
   "outputs": [
    {
     "name": "stdout",
     "output_type": "stream",
     "text": [
      "Accuracy:  \t0.9100598627536867\n",
      "F1-score:  \t0.914349276974416\n",
      "Recall:    \t0.9733570159857904\n",
      "ROCAUC:    \t0.9734469943722145\n"
     ]
    }
   ],
   "source": [
    "report(df_val.target, y_pred)"
   ]
  },
  {
   "cell_type": "markdown",
   "id": "f5817a42-96cb-48d5-b9c3-e15fdf8a630c",
   "metadata": {},
   "source": [
    "Кайфанули"
   ]
  }
 ],
 "metadata": {
  "kernelspec": {
   "display_name": "Python l_stuff",
   "language": "python",
   "name": "l_stuff"
  },
  "language_info": {
   "codemirror_mode": {
    "name": "ipython",
    "version": 3
   },
   "file_extension": ".py",
   "mimetype": "text/x-python",
   "name": "python",
   "nbconvert_exporter": "python",
   "pygments_lexer": "ipython3",
   "version": "3.8.10"
  }
 },
 "nbformat": 4,
 "nbformat_minor": 5
}
